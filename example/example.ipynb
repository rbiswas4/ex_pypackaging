{
 "metadata": {
  "name": "",
  "signature": "sha256:26d3ebd0ffa21ef4402c735bcdba18cd257226939f15587b83ed92dc2f060e36"
 },
 "nbformat": 3,
 "nbformat_minor": 0,
 "worksheets": [
  {
   "cells": [
    {
     "cell_type": "code",
     "collapsed": false,
     "input": [
      "import example"
     ],
     "language": "python",
     "metadata": {},
     "outputs": [],
     "prompt_number": 1
    },
    {
     "cell_type": "code",
     "collapsed": false,
     "input": [
      "help(example)"
     ],
     "language": "python",
     "metadata": {},
     "outputs": [
      {
       "output_type": "stream",
       "stream": "stdout",
       "text": [
        "Help on module example:\n",
        "\n",
        "NAME\n",
        "    example\n",
        "\n",
        "FILE\n",
        "    /Users/rbiswas/src/sphinx_example/example/example.py\n",
        "\n",
        "CLASSES\n",
        "    __builtin__.object\n",
        "        myclass\n",
        "    \n",
        "    class myclass(__builtin__.object)\n",
        "     |  Class holding a single member variable x.\n",
        "     |  Parameters\n",
        "     |  ----------\n",
        "     |      val: float, mandatory\n",
        "     |          initial value of the instance variable x\n",
        "     |  Attributes:\n",
        "     |  ----------\n",
        "     |      var: float storing member value x\n",
        "     |  \n",
        "     |  Methods defined here:\n",
        "     |  \n",
        "     |  __init__(self, val)\n",
        "     |  \n",
        "     |  setvar(self, x)\n",
        "     |      set the value of the member variable var\n",
        "     |      Parameters\n",
        "     |      ----------\n",
        "     |          x : float, mandatory\n",
        "     |              value to which var will be set\n",
        "     |      Returns \n",
        "     |          None\n",
        "     |      -------\n",
        "     |  \n",
        "     |  square(self)\n",
        "     |  \n",
        "     |  ----------------------------------------------------------------------\n",
        "     |  Data descriptors defined here:\n",
        "     |  \n",
        "     |  __dict__\n",
        "     |      dictionary for instance variables (if defined)\n",
        "     |  \n",
        "     |  __weakref__\n",
        "     |      list of weak references to the object (if defined)\n",
        "     |  \n",
        "     |  var\n",
        "\n",
        "FUNCTIONS\n",
        "    myfunc(x)\n",
        "        returns the square of the argument x.\n",
        "        Parameters\n",
        "        ----------\n",
        "            x : float, mandatory\n",
        "                value that you want to square\n",
        "        Returns\n",
        "        -------\n",
        "            float, desired square of x\n",
        "\n",
        "\n"
       ]
      }
     ],
     "prompt_number": 10
    },
    {
     "cell_type": "code",
     "collapsed": false,
     "input": [
      "help(example.myclass)"
     ],
     "language": "python",
     "metadata": {},
     "outputs": [
      {
       "output_type": "stream",
       "stream": "stdout",
       "text": [
        "Help on class myclass in module example:\n",
        "\n",
        "class myclass(__builtin__.object)\n",
        " |  Class holding a single member variable x.\n",
        " |  Parameters\n",
        " |  ----------\n",
        " |      val: float, mandatory\n",
        " |          initial value of the instance variable x\n",
        " |  Attributes:\n",
        " |  ----------\n",
        " |      var: float storing member value x\n",
        " |  \n",
        " |  Methods defined here:\n",
        " |  \n",
        " |  __init__(self, val)\n",
        " |  \n",
        " |  setvar(self, x)\n",
        " |      set the value of the member variable var\n",
        " |      Parameters\n",
        " |      ----------\n",
        " |          x : float, mandatory\n",
        " |              value to which var will be set\n",
        " |      Returns \n",
        " |          None\n",
        " |      -------\n",
        " |  \n",
        " |  square(self)\n",
        " |  \n",
        " |  ----------------------------------------------------------------------\n",
        " |  Data descriptors defined here:\n",
        " |  \n",
        " |  __dict__\n",
        " |      dictionary for instance variables (if defined)\n",
        " |  \n",
        " |  __weakref__\n",
        " |      list of weak references to the object (if defined)\n",
        " |  \n",
        " |  var\n",
        "\n"
       ]
      }
     ],
     "prompt_number": 9
    },
    {
     "cell_type": "code",
     "collapsed": false,
     "input": [
      "c = example.myclass(0)"
     ],
     "language": "python",
     "metadata": {},
     "outputs": [],
     "prompt_number": 2
    },
    {
     "cell_type": "code",
     "collapsed": false,
     "input": [
      "help(c)"
     ],
     "language": "python",
     "metadata": {},
     "outputs": [
      {
       "output_type": "stream",
       "stream": "stdout",
       "text": [
        "Help on myclass in module example object:\n",
        "\n",
        "class myclass(__builtin__.object)\n",
        " |  Class holding a single member variable x.\n",
        " |  Parameters\n",
        " |  ----------\n",
        " |      val: float, mandatory\n",
        " |          initial value of the instance variable x\n",
        " |  Attributes:\n",
        " |  ----------\n",
        " |      var: float storing member value x\n",
        " |  \n",
        " |  Methods defined here:\n",
        " |  \n",
        " |  __init__(self, val)\n",
        " |  \n",
        " |  setvar(self, x)\n",
        " |      set the value of the member variable var\n",
        " |      Parameters\n",
        " |      ----------\n",
        " |          x : float, mandatory\n",
        " |              value to which var will be set\n",
        " |      Returns \n",
        " |          None\n",
        " |      -------\n",
        " |  \n",
        " |  square(self)\n",
        " |  \n",
        " |  ----------------------------------------------------------------------\n",
        " |  Data descriptors defined here:\n",
        " |  \n",
        " |  __dict__\n",
        " |      dictionary for instance variables (if defined)\n",
        " |  \n",
        " |  __weakref__\n",
        " |      list of weak references to the object (if defined)\n",
        " |  \n",
        " |  var\n",
        "\n"
       ]
      }
     ],
     "prompt_number": 3
    },
    {
     "cell_type": "code",
     "collapsed": false,
     "input": [
      "help(c.setvar)"
     ],
     "language": "python",
     "metadata": {},
     "outputs": [
      {
       "output_type": "stream",
       "stream": "stdout",
       "text": [
        "Help on method setvar in module example:\n",
        "\n",
        "setvar(self, x) method of example.myclass instance\n",
        "    set the value of the member variable var\n",
        "    Parameters\n",
        "    ----------\n",
        "        x : float, mandatory\n",
        "            value to which var will be set\n",
        "    Returns \n",
        "        None\n",
        "    -------\n",
        "\n"
       ]
      }
     ],
     "prompt_number": 5
    },
    {
     "cell_type": "code",
     "collapsed": false,
     "input": [
      "help(example.myfunc)"
     ],
     "language": "python",
     "metadata": {},
     "outputs": [
      {
       "output_type": "stream",
       "stream": "stdout",
       "text": [
        "Help on function myfunc in module example:\n",
        "\n",
        "myfunc(x)\n",
        "    returns the square of the argument x.\n",
        "    Parameters\n",
        "    ----------\n",
        "        x : float, mandatory\n",
        "            value that you want to square\n",
        "    Returns\n",
        "    -------\n",
        "        float, desired square of x\n",
        "\n"
       ]
      }
     ],
     "prompt_number": 6
    },
    {
     "cell_type": "code",
     "collapsed": false,
     "input": [
      "c.square()"
     ],
     "language": "python",
     "metadata": {},
     "outputs": [],
     "prompt_number": 4
    },
    {
     "cell_type": "code",
     "collapsed": false,
     "input": [
      "c.var"
     ],
     "language": "python",
     "metadata": {},
     "outputs": [
      {
       "metadata": {},
       "output_type": "pyout",
       "prompt_number": 5,
       "text": [
        "0"
       ]
      }
     ],
     "prompt_number": 5
    },
    {
     "cell_type": "code",
     "collapsed": false,
     "input": [
      "c.setvar(2.)"
     ],
     "language": "python",
     "metadata": {},
     "outputs": [],
     "prompt_number": 6
    },
    {
     "cell_type": "code",
     "collapsed": false,
     "input": [
      "c.var"
     ],
     "language": "python",
     "metadata": {},
     "outputs": [
      {
       "metadata": {},
       "output_type": "pyout",
       "prompt_number": 7,
       "text": [
        "2.0"
       ]
      }
     ],
     "prompt_number": 7
    },
    {
     "cell_type": "code",
     "collapsed": false,
     "input": [
      "c.square()"
     ],
     "language": "python",
     "metadata": {},
     "outputs": [],
     "prompt_number": 8
    },
    {
     "cell_type": "code",
     "collapsed": false,
     "input": [
      "c.var"
     ],
     "language": "python",
     "metadata": {},
     "outputs": [
      {
       "metadata": {},
       "output_type": "pyout",
       "prompt_number": 10,
       "text": [
        "4.0"
       ]
      }
     ],
     "prompt_number": 10
    },
    {
     "cell_type": "code",
     "collapsed": false,
     "input": [
      "example.myfunc(2.)"
     ],
     "language": "python",
     "metadata": {},
     "outputs": [
      {
       "metadata": {},
       "output_type": "pyout",
       "prompt_number": 11,
       "text": [
        "4.0"
       ]
      }
     ],
     "prompt_number": 11
    },
    {
     "cell_type": "code",
     "collapsed": false,
     "input": [],
     "language": "python",
     "metadata": {},
     "outputs": []
    }
   ],
   "metadata": {}
  }
 ]
}